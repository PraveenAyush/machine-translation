{
 "cells": [
  {
   "cell_type": "code",
   "execution_count": 1,
   "metadata": {},
   "outputs": [
    {
     "name": "stdout",
     "output_type": "stream",
     "text": [
      "Using TensorFlow backend\n"
     ]
    },
    {
     "name": "stderr",
     "output_type": "stream",
     "text": [
      "2023-09-02 00:18:21.255957: I tensorflow/core/platform/cpu_feature_guard.cc:182] This TensorFlow binary is optimized to use available CPU instructions in performance-critical operations.\n",
      "To enable the following instructions: AVX2 FMA, in other operations, rebuild TensorFlow with the appropriate compiler flags.\n",
      "2023-09-02 00:18:22.356906: W tensorflow/compiler/tf2tensorrt/utils/py_utils.cc:38] TF-TRT Warning: Could not find TensorRT\n"
     ]
    }
   ],
   "source": [
    "import keras_nlp as kn\n",
    "import tensorflow as tf\n",
    "import pandas as pd\n",
    "import random\n",
    "\n",
    "from tensorflow import keras\n",
    "# from tensorflow_text.tools.wordpiece_vocab import bert_vocab_from_dataset as bert_vocab\n",
    "\n",
    "from utils import data_utils, parameters as params"
   ]
  },
  {
   "cell_type": "markdown",
   "metadata": {},
   "source": [
    "### Creating and Loading Dataset"
   ]
  },
  {
   "cell_type": "code",
   "execution_count": 2,
   "metadata": {},
   "outputs": [],
   "source": [
    "# Create dataset from individual files\n",
    "# data_utils.create_dataset('./data/en-kn/train.en', './data/en-kn/train.kn', 450000, './data/en-kn')"
   ]
  },
  {
   "cell_type": "code",
   "execution_count": 3,
   "metadata": {},
   "outputs": [],
   "source": [
    "# Split the data into training, validation and test sets\n",
    "# data_utils.split_data('./data/en-kn/data.tsv', output_dir='./data/en-kn/', val_size=0.2, test_size=0.33)"
   ]
  },
  {
   "cell_type": "code",
   "execution_count": 4,
   "metadata": {},
   "outputs": [
    {
     "data": {
      "text/plain": [
       "[['Headaches and migraines', 'ತಲೆನೋವು ಮತ್ತು ಮೈಗ್ರೇನ್ ಲಕ್ಷಣಗಳು'],\n",
       " ['Jakhni PO Baraon PS', 'ಜಖನಿ ಪಿಒ ಬಾರನ್ ಪಿಎಸ್'],\n",
       " ['He said that it was very difficult to do that.',\n",
       "  'ಇದು ತೀರಾ ಕಷ್ಟಸಾಧ್ಯ ಎಂದು ಹೇಳಿದರು.'],\n",
       " ['Two rounds remain.', 'ಉಳಿದಿದ್ದು ಎರಡೇ ವಿಕೆಟ್\\u200c.'],\n",
       " ['Double edge', 'ಅವಳಿ ತಿರುಪು.']]"
      ]
     },
     "execution_count": 4,
     "metadata": {},
     "output_type": "execute_result"
    }
   ],
   "source": [
    "train_pairs = pd.read_csv('./data/en-kn/train.tsv', sep='\\t', header=None).values.tolist()\n",
    "train_pairs[0:5]"
   ]
  },
  {
   "cell_type": "code",
   "execution_count": 5,
   "metadata": {},
   "outputs": [
    {
     "data": {
      "text/plain": [
       "360000"
      ]
     },
     "execution_count": 5,
     "metadata": {},
     "output_type": "execute_result"
    }
   ],
   "source": [
    "len(train_pairs)"
   ]
  },
  {
   "cell_type": "code",
   "execution_count": 6,
   "metadata": {},
   "outputs": [
    {
     "data": {
      "text/plain": [
       "60300"
      ]
     },
     "execution_count": 6,
     "metadata": {},
     "output_type": "execute_result"
    }
   ],
   "source": [
    "val_pairs = pd.read_csv('./data/en-kn/val.tsv', sep='\\t', header=None).values.tolist()\n",
    "len(val_pairs)"
   ]
  },
  {
   "cell_type": "markdown",
   "metadata": {},
   "source": [
    "### Creating vocabulary and tokenizing"
   ]
  },
  {
   "cell_type": "code",
   "execution_count": 7,
   "metadata": {},
   "outputs": [],
   "source": [
    "reserved_tokens = [\"[PAD]\", \"[UNK]\", \"[START]\", \"[END]\"]\n",
    "\n",
    "eng_samples = [pair[0] for pair in train_pairs]\n",
    "# data_utils.compute_vocabulary(eng_samples, params.ENG_VOCAB_SIZE, reserved_tokens=reserved_tokens, vocab_file_path='./utils/en-kn/eng_vocab.txt')"
   ]
  },
  {
   "cell_type": "code",
   "execution_count": 8,
   "metadata": {},
   "outputs": [],
   "source": [
    "kan_samples = [pair[1] for pair in train_pairs]\n",
    "# data_utils.compute_vocabulary(kan_samples, params.KAN_VOCAB_SIZE, reserved_tokens=reserved_tokens, vocab_file_path='./utils/en-kn/kan_vocab.txt')"
   ]
  },
  {
   "cell_type": "code",
   "execution_count": 9,
   "metadata": {},
   "outputs": [],
   "source": [
    "with open('./utils/en-kn/eng_vocab.txt', 'r') as f, open('./utils/en-kn/kan_vocab.txt', 'r') as g:\n",
    "    eng_vocab = f.read().splitlines()\n",
    "    kan_vocab = g.read().splitlines()"
   ]
  },
  {
   "cell_type": "code",
   "execution_count": 10,
   "metadata": {},
   "outputs": [
    {
     "name": "stdout",
     "output_type": "stream",
     "text": [
      "English vocab size:  14617\n",
      "Kannada vocab size:  14900\n"
     ]
    }
   ],
   "source": [
    "print(\"English vocab size: \", len(eng_vocab))\n",
    "print(\"Kannada vocab size: \", len(kan_vocab))"
   ]
  },
  {
   "cell_type": "code",
   "execution_count": 11,
   "metadata": {},
   "outputs": [
    {
     "name": "stdout",
     "output_type": "stream",
     "text": [
      "English vocab sample:  ['Mumbai', 'When', 'off', 'wife', 'matter', 'Pradesh', '##es', 'spot', 'last', 'movie']\n",
      "Kannada vocab sample:  ['ೃ', 'ೄ', 'ೆ', 'ೇ', 'ೈ', 'ೊ', 'ೋ', 'ೌ', '್', 'ೕ']\n"
     ]
    }
   ],
   "source": [
    "print(\"English vocab sample: \", eng_vocab[350:360])\n",
    "print(\"Kannada vocab sample: \", kan_vocab[350:360])"
   ]
  },
  {
   "cell_type": "code",
   "execution_count": 12,
   "metadata": {},
   "outputs": [
    {
     "name": "stderr",
     "output_type": "stream",
     "text": [
      "2023-09-02 00:18:27.153322: I tensorflow/compiler/xla/stream_executor/cuda/cuda_gpu_executor.cc:981] could not open file to read NUMA node: /sys/bus/pci/devices/0000:01:00.0/numa_node\n",
      "Your kernel may have been built without NUMA support.\n",
      "2023-09-02 00:18:27.301030: I tensorflow/compiler/xla/stream_executor/cuda/cuda_gpu_executor.cc:981] could not open file to read NUMA node: /sys/bus/pci/devices/0000:01:00.0/numa_node\n",
      "Your kernel may have been built without NUMA support.\n",
      "2023-09-02 00:18:27.301320: I tensorflow/compiler/xla/stream_executor/cuda/cuda_gpu_executor.cc:981] could not open file to read NUMA node: /sys/bus/pci/devices/0000:01:00.0/numa_node\n",
      "Your kernel may have been built without NUMA support.\n",
      "2023-09-02 00:18:27.302742: I tensorflow/compiler/xla/stream_executor/cuda/cuda_gpu_executor.cc:981] could not open file to read NUMA node: /sys/bus/pci/devices/0000:01:00.0/numa_node\n",
      "Your kernel may have been built without NUMA support.\n",
      "2023-09-02 00:18:27.303040: I tensorflow/compiler/xla/stream_executor/cuda/cuda_gpu_executor.cc:981] could not open file to read NUMA node: /sys/bus/pci/devices/0000:01:00.0/numa_node\n",
      "Your kernel may have been built without NUMA support.\n",
      "2023-09-02 00:18:27.303364: I tensorflow/compiler/xla/stream_executor/cuda/cuda_gpu_executor.cc:981] could not open file to read NUMA node: /sys/bus/pci/devices/0000:01:00.0/numa_node\n",
      "Your kernel may have been built without NUMA support.\n",
      "2023-09-02 00:18:28.826987: I tensorflow/compiler/xla/stream_executor/cuda/cuda_gpu_executor.cc:981] could not open file to read NUMA node: /sys/bus/pci/devices/0000:01:00.0/numa_node\n",
      "Your kernel may have been built without NUMA support.\n",
      "2023-09-02 00:18:28.827311: I tensorflow/compiler/xla/stream_executor/cuda/cuda_gpu_executor.cc:981] could not open file to read NUMA node: /sys/bus/pci/devices/0000:01:00.0/numa_node\n",
      "Your kernel may have been built without NUMA support.\n",
      "2023-09-02 00:18:28.827328: I tensorflow/core/common_runtime/gpu/gpu_device.cc:1726] Could not identify NUMA node of platform GPU id 0, defaulting to 0.  Your kernel may not have been built with NUMA support.\n",
      "2023-09-02 00:18:28.827582: I tensorflow/compiler/xla/stream_executor/cuda/cuda_gpu_executor.cc:981] could not open file to read NUMA node: /sys/bus/pci/devices/0000:01:00.0/numa_node\n",
      "Your kernel may have been built without NUMA support.\n",
      "2023-09-02 00:18:28.827640: I tensorflow/core/common_runtime/gpu/gpu_device.cc:1639] Created device /job:localhost/replica:0/task:0/device:GPU:0 with 2077 MB memory:  -> device: 0, name: NVIDIA GeForce GTX 1650, pci bus id: 0000:01:00.0, compute capability: 7.5\n"
     ]
    }
   ],
   "source": [
    "# Define the tokenizer\n",
    "eng_tokenizer = kn.tokenizers.WordPieceTokenizer(vocabulary=eng_vocab, lowercase=False)\n",
    "kan_tokenizer = kn.tokenizers.WordPieceTokenizer(vocabulary=kan_vocab, lowercase=False)"
   ]
  },
  {
   "cell_type": "code",
   "execution_count": 13,
   "metadata": {},
   "outputs": [
    {
     "name": "stdout",
     "output_type": "stream",
     "text": [
      "English input:  The film stars Shanvi Srivastav as the female lead.\n",
      "English tokens:  tf.Tensor(\n",
      "[  103   173  1013 12732   685  7342  1158  1586   126    97  2097   554\n",
      "    17], shape=(13,), dtype=int32)\n",
      "Reconstructed English input:  tf.Tensor(b'The film stars Shanvi Srivastav as the female lead .', shape=(), dtype=string)\n",
      "\n",
      "Kannada input:  ಉಳಿದಂತೆ ಶಾನ್ವಿ ಶ್ರೀವಾತ್ಸವ್ ನಾಯಕಿಯಾಗಿದ್ದಾರೆ.\n",
      "Kannada tokens:  tf.Tensor([5067 1019  561 1079  753 1249 8467  534 4604  660   17], shape=(11,), dtype=int32)\n",
      "Reconstructed Kannada input:  tf.Tensor(b'\\xe0\\xb2\\x89\\xe0\\xb2\\xb3\\xe0\\xb2\\xbf\\xe0\\xb2\\xa6\\xe0\\xb2\\x82\\xe0\\xb2\\xa4\\xe0\\xb3\\x86 \\xe0\\xb2\\xb6\\xe0\\xb2\\xbe\\xe0\\xb2\\xa8\\xe0\\xb3\\x8d\\xe0\\xb2\\xb5\\xe0\\xb2\\xbf \\xe0\\xb2\\xb6\\xe0\\xb3\\x8d\\xe0\\xb2\\xb0\\xe0\\xb3\\x80\\xe0\\xb2\\xb5\\xe0\\xb2\\xbe\\xe0\\xb2\\xa4\\xe0\\xb3\\x8d\\xe0\\xb2\\xb8\\xe0\\xb2\\xb5\\xe0\\xb3\\x8d \\xe0\\xb2\\xa8\\xe0\\xb2\\xbe\\xe0\\xb2\\xaf\\xe0\\xb2\\x95\\xe0\\xb2\\xbf\\xe0\\xb2\\xaf\\xe0\\xb2\\xbe\\xe0\\xb2\\x97\\xe0\\xb2\\xbf\\xe0\\xb2\\xa6\\xe0\\xb3\\x8d\\xe0\\xb2\\xa6\\xe0\\xb2\\xbe\\xe0\\xb2\\xb0\\xe0\\xb3\\x86 .', shape=(), dtype=string)\n"
     ]
    }
   ],
   "source": [
    "# Testing the tokenizer\n",
    "eng_tokens = eng_tokenizer.tokenize(eng_samples[5])\n",
    "print(\"English input: \", eng_samples[5])\n",
    "print(\"English tokens: \", eng_tokens)\n",
    "print(\"Reconstructed English input: \", eng_tokenizer.detokenize(eng_tokens))\n",
    "\n",
    "print()\n",
    "\n",
    "kan_tokens = kan_tokenizer.tokenize(kan_samples[5])\n",
    "print(\"Kannada input: \", kan_samples[5])\n",
    "print(\"Kannada tokens: \", kan_tokens)\n",
    "print(\"Reconstructed Kannada input: \", kan_tokenizer.detokenize(kan_tokens))"
   ]
  },
  {
   "cell_type": "code",
   "execution_count": 14,
   "metadata": {},
   "outputs": [
    {
     "data": {
      "text/plain": [
       "'ಉಳಿದಂತೆ ಶಾನ್ವಿ ಶ್ರೀವಾತ್ಸವ್ ನಾಯಕಿಯಾಗಿದ್ದಾರೆ .'"
      ]
     },
     "execution_count": 14,
     "metadata": {},
     "output_type": "execute_result"
    }
   ],
   "source": [
    "test = kan_tokenizer.detokenize(kan_tokens).numpy().decode('utf-8') # type: ignore\n",
    "test"
   ]
  },
  {
   "cell_type": "markdown",
   "metadata": {},
   "source": [
    "### Formatting Datasets"
   ]
  },
  {
   "cell_type": "code",
   "execution_count": 15,
   "metadata": {},
   "outputs": [],
   "source": [
    "train_ds = data_utils.make_dataset(train_pairs, params.BATCH_SIZE, eng_tokenizer, kan_tokenizer, params.MAX_SEQ_LEN)\n",
    "val_ds = data_utils.make_dataset(val_pairs, params.BATCH_SIZE, eng_tokenizer, kan_tokenizer, params.MAX_SEQ_LEN)"
   ]
  },
  {
   "cell_type": "code",
   "execution_count": 16,
   "metadata": {},
   "outputs": [
    {
     "name": "stdout",
     "output_type": "stream",
     "text": [
      "inputs['encoder_inputs'].shape: (48, 40)\n",
      "inputs['decoder_inputs'].shape: (48, 40)\n",
      "targets.shape: (48, 40)\n"
     ]
    },
    {
     "name": "stderr",
     "output_type": "stream",
     "text": [
      "2023-09-02 00:18:34.976628: W tensorflow/core/kernels/data/cache_dataset_ops.cc:854] The calling iterator did not fully read the dataset being cached. In order to avoid unexpected truncation of the dataset, the partially cached contents of the dataset  will be discarded. This can happen if you have an input pipeline similar to `dataset.cache().take(k).repeat()`. You should use `dataset.take(k).cache().repeat()` instead.\n"
     ]
    }
   ],
   "source": [
    "for inputs, targets in train_ds.take(1):\n",
    "    print(f\"inputs['encoder_inputs'].shape: {inputs['encoder_inputs'].shape}\")\n",
    "    print(f\"inputs['decoder_inputs'].shape: {inputs['decoder_inputs'].shape}\")\n",
    "    print(f\"targets.shape: {targets.shape}\")"
   ]
  },
  {
   "cell_type": "markdown",
   "metadata": {},
   "source": [
    "### Building the model"
   ]
  },
  {
   "cell_type": "code",
   "execution_count": 17,
   "metadata": {},
   "outputs": [],
   "source": [
    "encoder_inputs = keras.layers.Input(shape=(None,), dtype='int64', name='encoder_inputs')\n",
    "\n",
    "# Encoder Embedding \n",
    "x = kn.layers.TokenAndPositionEmbedding(\n",
    "    vocabulary_size=params.ENG_VOCAB_SIZE,\n",
    "    sequence_length=params.MAX_SEQ_LEN,\n",
    "    embedding_dim=params.EMBEDDING_DIM,\n",
    "    mask_zero=True,\n",
    "    name='encoder_embedding'\n",
    ") (encoder_inputs)\n",
    "\n",
    "# Encoder Transformer Block\n",
    "encoder_outputs = kn.layers.TransformerEncoder(intermediate_dim=params.INTERMEDIATE_DIM, num_heads=params.NUM_HEADS, dropout=0.3, name='encoder_transformer_block') (x)\n",
    "encoder = keras.Model(encoder_inputs, encoder_outputs, name='encoder')\n",
    "\n",
    "# Decoder\n",
    "decoder_inputs = keras.layers.Input(shape=(None,), dtype='int64', name='decoder_inputs')\n",
    "encoded_seq_inputs = keras.layers.Input(shape=(None, params.EMBEDDING_DIM), name='decoder_attention_inputs')\n",
    "\n",
    "# Decoder Embedding\n",
    "x = kn.layers.TokenAndPositionEmbedding(\n",
    "    vocabulary_size=params.KAN_VOCAB_SIZE,\n",
    "    sequence_length=params.MAX_SEQ_LEN,\n",
    "    embedding_dim=params.EMBEDDING_DIM,\n",
    "    mask_zero=True,\n",
    "    name='decoder_embedding'\n",
    ") (decoder_inputs)\n",
    "\n",
    "# Decoder Transformer Block\n",
    "x = kn.layers.TransformerDecoder(intermediate_dim=params.INTERMEDIATE_DIM, num_heads=params.NUM_HEADS, dropout=0.3, name='decoder_transformer_block') (\n",
    "    decoder_sequence=x, \n",
    "    encoder_sequence=encoded_seq_inputs\n",
    ")\n",
    "x = keras.layers.Dropout(0.5, name='decoder_dropout') (x)\n",
    "\n",
    "# Decoder output\n",
    "decoder_outputs = keras.layers.Dense(params.KAN_VOCAB_SIZE, activation='softmax', name='decoder_outputs') (x)\n",
    "decoder = keras.Model([decoder_inputs, encoded_seq_inputs], decoder_outputs, name='decoder')\n",
    "\n",
    "decoder_outputs = decoder([decoder_inputs, encoder_outputs])\n",
    "\n",
    "transformer = keras.Model([encoder_inputs, decoder_inputs], decoder_outputs, name='transformer')\n"
   ]
  },
  {
   "cell_type": "code",
   "execution_count": 18,
   "metadata": {},
   "outputs": [
    {
     "data": {
      "image/png": "[encoded data removed]",
      "text/plain": [
       "<IPython.core.display.Image object>"
      ]
     },
     "execution_count": 18,
     "metadata": {},
     "output_type": "execute_result"
    }
   ],
   "source": [
    "tf.keras.utils.plot_model(transformer, show_shapes=True, dpi=96)"
   ]
  },
  {
   "cell_type": "code",
   "execution_count": 19,
   "metadata": {},
   "outputs": [
    {
     "name": "stdout",
     "output_type": "stream",
     "text": [
      "Model: \"transformer\"\n",
      "__________________________________________________________________________________________________\n",
      " Layer (type)                Output Shape                 Param #   Connected to                  \n",
      "==================================================================================================\n",
      " encoder_inputs (InputLayer  [(None, None)]               0         []                            \n",
      " )                                                                                                \n",
      "                                                                                                  \n",
      " encoder_embedding (TokenAn  (None, None, 256)            3850240   ['encoder_inputs[0][0]']      \n",
      " dPositionEmbedding)                                                                              \n",
      "                                                                                                  \n",
      " decoder_inputs (InputLayer  [(None, None)]               0         []                            \n",
      " )                                                                                                \n",
      "                                                                                                  \n",
      " encoder_transformer_block   (None, None, 256)            1310964   ['encoder_embedding[0][0]']   \n",
      " (TransformerEncoder)                                                                             \n",
      "                                                                                                  \n",
      " decoder (Functional)        (None, None, 15000)          9275776   ['decoder_inputs[0][0]',      \n",
      "                                                                     'encoder_transformer_block[0]\n",
      "                                                                    [0]']                         \n",
      "                                                                                                  \n",
      "==================================================================================================\n",
      "Total params: 14436980 (55.07 MB)\n",
      "Trainable params: 14436980 (55.07 MB)\n",
      "Non-trainable params: 0 (0.00 Byte)\n",
      "__________________________________________________________________________________________________\n"
     ]
    }
   ],
   "source": [
    "transformer.summary()"
   ]
  },
  {
   "cell_type": "code",
   "execution_count": 20,
   "metadata": {},
   "outputs": [],
   "source": [
    "# transformer.compile(\n",
    "#     optimizer='adam',\n",
    "#     loss='sparse_categorical_crossentropy',\n",
    "#     metrics=['accuracy']\n",
    "# )\n",
    "\n",
    "# history = transformer.fit(\n",
    "#     train_ds,\n",
    "#     validation_data=val_ds,\n",
    "#     epochs=params.EPOCHS,\n",
    "#     callbacks=[\n",
    "#         # keras.callbacks.ModelCheckpoint('./models/en-kn/transformer_14M_weights.h5', save_best_only=True, save_weights_only=True, verbose=1),\n",
    "#         keras.callbacks.BackupAndRestore('./models/en-kn/backups'),\n",
    "#         keras.callbacks.EarlyStopping(monitor='val_loss', patience=3, verbose=1)\n",
    "#     ]\n",
    "# )"
   ]
  },
  {
   "cell_type": "code",
   "execution_count": 21,
   "metadata": {},
   "outputs": [
    {
     "name": "stdout",
     "output_type": "stream",
     "text": [
      "Model: \"transformer\"\n",
      "__________________________________________________________________________________________________\n",
      " Layer (type)                Output Shape                 Param #   Connected to                  \n",
      "==================================================================================================\n",
      " encoder_inputs (InputLayer  [(None, None)]               0         []                            \n",
      " )                                                                                                \n",
      "                                                                                                  \n",
      " encoder_embedding (TokenAn  (None, None, 256)            3850240   ['encoder_inputs[0][0]']      \n",
      " dPositionEmbedding)                                                                              \n",
      "                                                                                                  \n",
      " decoder_inputs (InputLayer  [(None, None)]               0         []                            \n",
      " )                                                                                                \n",
      "                                                                                                  \n",
      " encoder_transformer_block_  (None, None, 256)            1310964   ['encoder_embedding[0][0]']   \n",
      " 1 (TransformerEncoder)                                                                           \n",
      "                                                                                                  \n",
      " decoder (Functional)        (None, None, 15000)          9275776   ['decoder_inputs[0][0]',      \n",
      "                                                                     'encoder_transformer_block_1[\n",
      "                                                                    0][0]']                       \n",
      "                                                                                                  \n",
      "==================================================================================================\n",
      "Total params: 14436980 (55.07 MB)\n",
      "Trainable params: 14436980 (55.07 MB)\n",
      "Non-trainable params: 0 (0.00 Byte)\n",
      "__________________________________________________________________________________________________\n"
     ]
    }
   ],
   "source": [
    "transformer = keras.models.load_model('./models/en-kn/model/')\n",
    "transformer.summary()"
   ]
  },
  {
   "cell_type": "markdown",
   "metadata": {},
   "source": [
    "### Qualitative Analysis"
   ]
  },
  {
   "cell_type": "code",
   "execution_count": 22,
   "metadata": {},
   "outputs": [
    {
     "data": {
      "text/plain": [
       "29700"
      ]
     },
     "execution_count": 22,
     "metadata": {},
     "output_type": "execute_result"
    }
   ],
   "source": [
    "test_pairs = pd.read_csv('./data/en-kn/test.tsv', sep='\\t', header=None).values.tolist()\n",
    "len(test_pairs)"
   ]
  },
  {
   "cell_type": "code",
   "execution_count": 23,
   "metadata": {},
   "outputs": [
    {
     "name": "stderr",
     "output_type": "stream",
     "text": [
      "2023-09-02 00:18:42.334763: I tensorflow/compiler/xla/service/service.cc:168] XLA service 0x759ab070 initialized for platform CUDA (this does not guarantee that XLA will be used). Devices:\n",
      "2023-09-02 00:18:42.334823: I tensorflow/compiler/xla/service/service.cc:176]   StreamExecutor device (0): NVIDIA GeForce GTX 1650, Compute Capability 7.5\n",
      "2023-09-02 00:18:42.603075: I tensorflow/compiler/xla/stream_executor/cuda/cuda_dnn.cc:432] Loaded cuDNN version 8600\n",
      "2023-09-02 00:18:42.795423: I tensorflow/tsl/platform/default/subprocess.cc:304] Start cannot spawn child process: No such file or directory\n",
      "2023-09-02 00:18:42.901518: I ./tensorflow/compiler/jit/device_compiler.h:186] Compiled cluster using XLA!  This line is logged at most once for the lifetime of the process.\n"
     ]
    },
    {
     "name": "stdout",
     "output_type": "stream",
     "text": [
      "Input: Can India win the series?\n",
      "Translated: ಭಾರತ ತಂಡ ಭಾರತ ಗೆಲುವು ಸಾಧಿಸುವುದು ?\n",
      "\n",
      "Input: These questions intrigued a number of economists.\n",
      "Translated: ಈ ಪ್ರಶ್ನೆಗಳಿಗೆ ಉತ್ತರ ಅರ್ಥಶಾಸ್ತ್ರಜ್ಞರ ಬಗ್ಗೆ ಕುತೂಹಲ ಮೂಡಿಸಿದೆ .\n",
      "\n"
     ]
    }
   ],
   "source": [
    "test_eng_samples = [pair[0] for pair in test_pairs]\n",
    "\n",
    "for i in range(2):\n",
    "    input_sequence = random.choice(test_eng_samples)\n",
    "    translated_sequence = data_utils.decode_sequences(tf.constant([input_sequence]), eng_tokenizer, kan_tokenizer, params.MAX_SEQ_LEN, transformer)\n",
    "    translated_sequence = (\n",
    "        translated_sequence.replace(\"[START]\", \"\")\n",
    "        .replace(\"[END]\", \"\")\n",
    "        .replace(\"[PAD]\", \"\")\n",
    "        .strip()\n",
    "    )\n",
    "\n",
    "    print(f\"Input: {input_sequence}\")\n",
    "    print(f\"Translated: {translated_sequence}\")\n",
    "    print()"
   ]
  },
  {
   "cell_type": "markdown",
   "metadata": {},
   "source": [
    "### Quantitative Analysis"
   ]
  },
  {
   "cell_type": "code",
   "execution_count": 24,
   "metadata": {},
   "outputs": [],
   "source": [
    "test_ds = data_utils.make_dataset(test_pairs, params.BATCH_SIZE, eng_tokenizer, kan_tokenizer, params.MAX_SEQ_LEN)"
   ]
  },
  {
   "cell_type": "code",
   "execution_count": 25,
   "metadata": {},
   "outputs": [
    {
     "name": "stdout",
     "output_type": "stream",
     "text": [
      "619/619 [==============================] - 30s 47ms/step - loss: 3.4181 - accuracy: 0.4134\n"
     ]
    },
    {
     "data": {
      "text/plain": [
       "[3.4180784225463867, 0.41343721747398376]"
      ]
     },
     "execution_count": 25,
     "metadata": {},
     "output_type": "execute_result"
    }
   ],
   "source": [
    "transformer.evaluate(test_ds, use_multiprocessing=True, workers=-1)"
   ]
  },
  {
   "cell_type": "code",
   "execution_count": 27,
   "metadata": {},
   "outputs": [],
   "source": [
    "# bleu_score = kn.metrics.Bleu(tokenizer=kan_tokenizer, name='bleu', max_order=3)\n",
    "# BLEU score comes to around 10"
   ]
  },
  {
   "cell_type": "code",
   "execution_count": 28,
   "metadata": {},
   "outputs": [],
   "source": [
    "# Takes too long to run\n",
    "# for pair in test_pairs[10000:15000]:\n",
    "#     input_sequence = pair[0]\n",
    "#     reference_sequence = pair[1]\n",
    "\n",
    "#     translated_sequence = data_utils.decode_sequences(tf.constant([input_sequence]), eng_tokenizer, kan_tokenizer, params.MAX_SEQ_LEN, transformer)\n",
    "#     translated_sequence = (\n",
    "#         translated_sequence.replace(\"[START]\", \"\")\n",
    "#         .replace(\"[END]\", \"\")\n",
    "#         .replace(\"[PAD]\", \"\")\n",
    "#         .strip()\n",
    "#     )\n",
    "\n",
    "#     bleu_score.update_state([reference_sequence], [translated_sequence])\n",
    "# print(f\"Bleu score: {bleu_score.result().numpy() * 100:.2f}\")"
   ]
  },
  {
   "cell_type": "code",
   "execution_count": null,
   "metadata": {},
   "outputs": [],
   "source": []
  }
 ],
 "metadata": {
  "kernelspec": {
   "display_name": "tf-gpu",
   "language": "python",
   "name": "python3"
  },
  "language_info": {
   "codemirror_mode": {
    "name": "ipython",
    "version": 3
   },
   "file_extension": ".py",
   "mimetype": "text/x-python",
   "name": "python",
   "nbconvert_exporter": "python",
   "pygments_lexer": "ipython3",
   "version": "3.9.17"
  },
  "orig_nbformat": 4
 },
 "nbformat": 4,
 "nbformat_minor": 2
}
